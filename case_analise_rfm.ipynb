{
 "cells": [
  {
   "cell_type": "markdown",
   "metadata": {},
   "source": [
    "# Case - Preparando um dataset para o cálculo de indicadores RFM de uma empresa de e-commerce"
   ]
  },
  {
   "cell_type": "markdown",
   "metadata": {},
   "source": [
    "## Introdução"
   ]
  },
  {
   "cell_type": "markdown",
   "metadata": {},
   "source": [
    "Uma empresa do ramo de e-commerce tem uma base de dados contendo diversas informações dos seus clientes ao redor do mundo. Fazendo uma análise criteriosa, esta deseja levantar os indicadores RFM destes clientes, sendo RFM definido por:\n",
    "\n",
    "- R (Recency): Tempo que o cliente realizou a última compra (em dias)\n",
    "- F (Frequency): Quantidade de compras realizadas pelo cliente\n",
    "- M (Monetary): Valor do ticket médio gasto pelo cliente. Onde ticket médio = média do total gasto por pedido para cada cliente.\n",
    "\n",
    "Além disso, necessita também de gráficos contendo informações valiosas de valores de venda por país, por produto e por mês."
   ]
  },
  {
   "cell_type": "markdown",
   "metadata": {},
   "source": [
    "## Objetivo do projeto"
   ]
  },
  {
   "cell_type": "markdown",
   "metadata": {},
   "source": [
    "A partir da base de dados disponibilizada pela empresa, gerar um output em csv contendo apenas a identificação dos clientes e as métricas RFM calculadas. E, plotar os seguintes gráficos solicitados:\n",
    "\n",
    "- Top 10 países com maior valor em vendas;\n",
    "- Top 10 produtos mais vendidos;\n",
    "- Valor de venda total por mês;\n",
    "- Valor de venda total por mês e por país (considerando apenas o top 10)."
   ]
  },
  {
   "cell_type": "markdown",
   "metadata": {},
   "source": [
    "## Sobre os dados"
   ]
  },
  {
   "cell_type": "markdown",
   "metadata": {},
   "source": [
    "A tabela contém informações de compras de um e-commerce em 37 países. Contém a identificação do cliente e os dados da compra.\n",
    "\n",
    "- CustomerID = Código de identificação do cliente;\n",
    "- Description = Descrição do produto;\n",
    "- InvoiceNo = Código da fatura;\n",
    "- StockCode = Código de estoque do produto;\n",
    "- Quantity = Quantidade do produto;\n",
    "- InvoiceDate = Data do faturamento (compra);\n",
    "- UnitPrice = Preço unitário do produto;\n",
    "- Country = País da compra."
   ]
  },
  {
   "cell_type": "code",
   "execution_count": null,
   "metadata": {},
   "outputs": [],
   "source": []
  }
 ],
 "metadata": {
  "language_info": {
   "name": "python"
  }
 },
 "nbformat": 4,
 "nbformat_minor": 2
}
